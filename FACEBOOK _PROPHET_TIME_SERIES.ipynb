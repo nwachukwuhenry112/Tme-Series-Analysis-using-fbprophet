{
 "cells": [
  {
   "cell_type": "code",
   "execution_count": 55,
   "id": "basic-seventh",
   "metadata": {},
   "outputs": [
    {
     "name": "stdout",
     "output_type": "stream",
     "text": [
      "c:\\users\\henry\\anaconda3\\envs\\test\\python.exe\n"
     ]
    }
   ],
   "source": [
    "import sys\n",
    "print(sys.executable)\n",
    "# note this route for installing fbprophet\n",
    "#    https://github.com/conda/conda/issues/8923\n",
    "# run curl -SLO https://repo.anaconda.com/miniconda/Miniconda3-4.5.4-Linux-x86_64.sh \n",
    "# run conda update -y conda\n",
    "# conda create -n test -y zlib\n",
    "# on the new environment ie conda activate ....\n",
    "# conda install -c anaconda ephem\n",
    "# conda install -c conda-forge fbprophet\n",
    "# pip install fbprophet\n",
    "# pip install jupyter notebook and then launch it from there"
   ]
  },
  {
   "cell_type": "code",
   "execution_count": 2,
   "id": "naval-cache",
   "metadata": {},
   "outputs": [
    {
     "name": "stdout",
     "output_type": "stream",
     "text": [
      "Requirement already satisfied: fbprophet in c:\\users\\henry\\anaconda3\\envs\\test\\lib\\site-packages (0.7.1)\n",
      "Requirement already satisfied: numpy>=1.15.4 in c:\\users\\henry\\anaconda3\\envs\\test\\lib\\site-packages (from fbprophet) (1.20.1)\n",
      "Requirement already satisfied: holidays>=0.10.2 in c:\\users\\henry\\anaconda3\\envs\\test\\lib\\site-packages (from fbprophet) (0.10.5.2)\n",
      "Requirement already satisfied: Cython>=0.22 in c:\\users\\henry\\anaconda3\\envs\\test\\lib\\site-packages (from fbprophet) (0.29.22)\n",
      "Requirement already satisfied: convertdate>=2.1.2 in c:\\users\\henry\\anaconda3\\envs\\test\\lib\\site-packages (from fbprophet) (2.3.1)\n",
      "Requirement already satisfied: setuptools-git>=1.2 in c:\\users\\henry\\anaconda3\\envs\\test\\lib\\site-packages (from fbprophet) (1.2)\n",
      "Requirement already satisfied: python-dateutil>=2.8.0 in c:\\users\\henry\\anaconda3\\envs\\test\\lib\\site-packages (from fbprophet) (2.8.1)\n",
      "Requirement already satisfied: pandas>=1.0.4 in c:\\users\\henry\\anaconda3\\envs\\test\\lib\\site-packages (from fbprophet) (1.2.2)\n",
      "Requirement already satisfied: pystan>=2.14 in c:\\users\\henry\\anaconda3\\envs\\test\\lib\\site-packages (from fbprophet) (2.19.1.1)\n",
      "Requirement already satisfied: LunarCalendar>=0.0.9 in c:\\users\\henry\\anaconda3\\envs\\test\\lib\\site-packages (from fbprophet) (0.0.9)\n",
      "Requirement already satisfied: matplotlib>=2.0.0 in c:\\users\\henry\\anaconda3\\envs\\test\\lib\\site-packages (from fbprophet) (3.3.4)\n",
      "Requirement already satisfied: cmdstanpy==0.9.5 in c:\\users\\henry\\anaconda3\\envs\\test\\lib\\site-packages (from fbprophet) (0.9.5)\n",
      "Requirement already satisfied: tqdm>=4.36.1 in c:\\users\\henry\\anaconda3\\envs\\test\\lib\\site-packages (from fbprophet) (4.58.0)\n",
      "Requirement already satisfied: pytz>=2014.10 in c:\\users\\henry\\anaconda3\\envs\\test\\lib\\site-packages (from convertdate>=2.1.2->fbprophet) (2021.1)\n",
      "Requirement already satisfied: pymeeus!=0.3.8,<=1,>=0.3.6 in c:\\users\\henry\\anaconda3\\envs\\test\\lib\\site-packages (from convertdate>=2.1.2->fbprophet) (0.4.2)\n",
      "Requirement already satisfied: hijri-converter in c:\\users\\henry\\anaconda3\\envs\\test\\lib\\site-packages (from holidays>=0.10.2->fbprophet) (2.1.1)\n",
      "Requirement already satisfied: six in c:\\users\\henry\\anaconda3\\envs\\test\\lib\\site-packages (from holidays>=0.10.2->fbprophet) (1.15.0)\n",
      "Requirement already satisfied: korean-lunar-calendar in c:\\users\\henry\\anaconda3\\envs\\test\\lib\\site-packages (from holidays>=0.10.2->fbprophet) (0.2.1)\n",
      "Requirement already satisfied: ephem>=3.7.5.3 in c:\\users\\henry\\anaconda3\\envs\\test\\lib\\site-packages (from LunarCalendar>=0.0.9->fbprophet) (3.7.7.1)\n",
      "Requirement already satisfied: kiwisolver>=1.0.1 in c:\\users\\henry\\anaconda3\\envs\\test\\lib\\site-packages (from matplotlib>=2.0.0->fbprophet) (1.3.1)\n",
      "Requirement already satisfied: cycler>=0.10 in c:\\users\\henry\\anaconda3\\envs\\test\\lib\\site-packages (from matplotlib>=2.0.0->fbprophet) (0.10.0)\n",
      "Requirement already satisfied: pillow>=6.2.0 in c:\\users\\henry\\anaconda3\\envs\\test\\lib\\site-packages (from matplotlib>=2.0.0->fbprophet) (8.1.0)\n",
      "Requirement already satisfied: pyparsing!=2.0.4,!=2.1.2,!=2.1.6,>=2.0.3 in c:\\users\\henry\\anaconda3\\envs\\test\\lib\\site-packages (from matplotlib>=2.0.0->fbprophet) (2.4.7)\n"
     ]
    }
   ],
   "source": [
    "!pip install fbprophet"
   ]
  },
  {
   "cell_type": "code",
   "execution_count": 3,
   "id": "wired-patent",
   "metadata": {},
   "outputs": [
    {
     "name": "stdout",
     "output_type": "stream",
     "text": [
      "Collecting package metadata (current_repodata.json): ...working... done\n",
      "Solving environment: ...working... done\n",
      "\n",
      "# All requested packages already installed.\n",
      "\n"
     ]
    }
   ],
   "source": [
    "!conda install -c conda-forge fbprophet -y"
   ]
  },
  {
   "cell_type": "code",
   "execution_count": 4,
   "id": "spoken-designation",
   "metadata": {},
   "outputs": [
    {
     "name": "stdout",
     "output_type": "stream",
     "text": [
      "Requirement already satisfied: plotly in c:\\users\\henry\\anaconda3\\envs\\test\\lib\\site-packages (4.14.3)\n",
      "Requirement already satisfied: six in c:\\users\\henry\\anaconda3\\envs\\test\\lib\\site-packages (from plotly) (1.15.0)\n",
      "Requirement already satisfied: retrying>=1.3.3 in c:\\users\\henry\\anaconda3\\envs\\test\\lib\\site-packages (from plotly) (1.3.3)\n"
     ]
    }
   ],
   "source": [
    "!pip install --upgrade plotly"
   ]
  },
  {
   "cell_type": "code",
   "execution_count": 5,
   "id": "chronic-presence",
   "metadata": {},
   "outputs": [],
   "source": [
    "from fbprophet import Prophet"
   ]
  },
  {
   "cell_type": "code",
   "execution_count": 6,
   "id": "competitive-variation",
   "metadata": {},
   "outputs": [],
   "source": [
    "import pandas as pd"
   ]
  },
  {
   "cell_type": "code",
   "execution_count": 7,
   "id": "unusual-engine",
   "metadata": {},
   "outputs": [
    {
     "data": {
      "text/plain": [
       "'C:\\\\Users\\\\Henry\\\\FBPROPHET VS OTHERS'"
      ]
     },
     "execution_count": 7,
     "metadata": {},
     "output_type": "execute_result"
    }
   ],
   "source": [
    "pwd\n"
   ]
  },
  {
   "cell_type": "code",
   "execution_count": 8,
   "id": "defined-prescription",
   "metadata": {},
   "outputs": [
    {
     "data": {
      "text/html": [
       "<div>\n",
       "<style scoped>\n",
       "    .dataframe tbody tr th:only-of-type {\n",
       "        vertical-align: middle;\n",
       "    }\n",
       "\n",
       "    .dataframe tbody tr th {\n",
       "        vertical-align: top;\n",
       "    }\n",
       "\n",
       "    .dataframe thead th {\n",
       "        text-align: right;\n",
       "    }\n",
       "</style>\n",
       "<table border=\"1\" class=\"dataframe\">\n",
       "  <thead>\n",
       "    <tr style=\"text-align: right;\">\n",
       "      <th></th>\n",
       "      <th>date</th>\n",
       "      <th>spx</th>\n",
       "      <th>dax</th>\n",
       "      <th>ftse</th>\n",
       "      <th>nikkei</th>\n",
       "    </tr>\n",
       "  </thead>\n",
       "  <tbody>\n",
       "    <tr>\n",
       "      <th>6264</th>\n",
       "      <td>23/01/2018</td>\n",
       "      <td>2839.130362</td>\n",
       "      <td>13559.60</td>\n",
       "      <td>7731.827774</td>\n",
       "      <td>24124.15</td>\n",
       "    </tr>\n",
       "    <tr>\n",
       "      <th>6265</th>\n",
       "      <td>24/01/2018</td>\n",
       "      <td>2837.544008</td>\n",
       "      <td>13414.74</td>\n",
       "      <td>7643.428966</td>\n",
       "      <td>23940.78</td>\n",
       "    </tr>\n",
       "    <tr>\n",
       "      <th>6266</th>\n",
       "      <td>25/01/2018</td>\n",
       "      <td>2839.253031</td>\n",
       "      <td>13298.36</td>\n",
       "      <td>7615.839954</td>\n",
       "      <td>23669.49</td>\n",
       "    </tr>\n",
       "    <tr>\n",
       "      <th>6267</th>\n",
       "      <td>26/01/2018</td>\n",
       "      <td>2872.867839</td>\n",
       "      <td>13340.17</td>\n",
       "      <td>7665.541292</td>\n",
       "      <td>23631.88</td>\n",
       "    </tr>\n",
       "    <tr>\n",
       "      <th>6268</th>\n",
       "      <td>29/01/2018</td>\n",
       "      <td>2853.528411</td>\n",
       "      <td>13324.48</td>\n",
       "      <td>7671.533300</td>\n",
       "      <td>23629.34</td>\n",
       "    </tr>\n",
       "  </tbody>\n",
       "</table>\n",
       "</div>"
      ],
      "text/plain": [
       "            date          spx       dax         ftse    nikkei\n",
       "6264  23/01/2018  2839.130362  13559.60  7731.827774  24124.15\n",
       "6265  24/01/2018  2837.544008  13414.74  7643.428966  23940.78\n",
       "6266  25/01/2018  2839.253031  13298.36  7615.839954  23669.49\n",
       "6267  26/01/2018  2872.867839  13340.17  7665.541292  23631.88\n",
       "6268  29/01/2018  2853.528411  13324.48  7671.533300  23629.34"
      ]
     },
     "execution_count": 8,
     "metadata": {},
     "output_type": "execute_result"
    }
   ],
   "source": [
    "data = pd.read_csv('select_stock.csv')\n",
    "data.tail()"
   ]
  },
  {
   "cell_type": "code",
   "execution_count": 9,
   "id": "accredited-sharp",
   "metadata": {},
   "outputs": [],
   "source": [
    "data = data.drop(['nikkei','ftse','dax'],axis =1)"
   ]
  },
  {
   "cell_type": "code",
   "execution_count": 10,
   "id": "sticky-intensity",
   "metadata": {},
   "outputs": [
    {
     "data": {
      "text/html": [
       "<div>\n",
       "<style scoped>\n",
       "    .dataframe tbody tr th:only-of-type {\n",
       "        vertical-align: middle;\n",
       "    }\n",
       "\n",
       "    .dataframe tbody tr th {\n",
       "        vertical-align: top;\n",
       "    }\n",
       "\n",
       "    .dataframe thead th {\n",
       "        text-align: right;\n",
       "    }\n",
       "</style>\n",
       "<table border=\"1\" class=\"dataframe\">\n",
       "  <thead>\n",
       "    <tr style=\"text-align: right;\">\n",
       "      <th></th>\n",
       "      <th>date</th>\n",
       "      <th>spx</th>\n",
       "    </tr>\n",
       "  </thead>\n",
       "  <tbody>\n",
       "    <tr>\n",
       "      <th>0</th>\n",
       "      <td>07/01/1994</td>\n",
       "      <td>469.90</td>\n",
       "    </tr>\n",
       "    <tr>\n",
       "      <th>1</th>\n",
       "      <td>10/01/1994</td>\n",
       "      <td>475.27</td>\n",
       "    </tr>\n",
       "    <tr>\n",
       "      <th>2</th>\n",
       "      <td>11/01/1994</td>\n",
       "      <td>474.13</td>\n",
       "    </tr>\n",
       "    <tr>\n",
       "      <th>3</th>\n",
       "      <td>12/01/1994</td>\n",
       "      <td>474.17</td>\n",
       "    </tr>\n",
       "    <tr>\n",
       "      <th>4</th>\n",
       "      <td>13/01/1994</td>\n",
       "      <td>472.47</td>\n",
       "    </tr>\n",
       "  </tbody>\n",
       "</table>\n",
       "</div>"
      ],
      "text/plain": [
       "         date     spx\n",
       "0  07/01/1994  469.90\n",
       "1  10/01/1994  475.27\n",
       "2  11/01/1994  474.13\n",
       "3  12/01/1994  474.17\n",
       "4  13/01/1994  472.47"
      ]
     },
     "execution_count": 10,
     "metadata": {},
     "output_type": "execute_result"
    }
   ],
   "source": [
    "data.head(5)"
   ]
  },
  {
   "cell_type": "code",
   "execution_count": 11,
   "id": "instrumental-price",
   "metadata": {},
   "outputs": [],
   "source": [
    "# formant fbprohet requires the columns head to be named\n",
    "\n",
    "data.columns = ['ds','y']"
   ]
  },
  {
   "cell_type": "code",
   "execution_count": 12,
   "id": "integrated-budget",
   "metadata": {},
   "outputs": [
    {
     "data": {
      "text/html": [
       "<div>\n",
       "<style scoped>\n",
       "    .dataframe tbody tr th:only-of-type {\n",
       "        vertical-align: middle;\n",
       "    }\n",
       "\n",
       "    .dataframe tbody tr th {\n",
       "        vertical-align: top;\n",
       "    }\n",
       "\n",
       "    .dataframe thead th {\n",
       "        text-align: right;\n",
       "    }\n",
       "</style>\n",
       "<table border=\"1\" class=\"dataframe\">\n",
       "  <thead>\n",
       "    <tr style=\"text-align: right;\">\n",
       "      <th></th>\n",
       "      <th>ds</th>\n",
       "      <th>y</th>\n",
       "    </tr>\n",
       "  </thead>\n",
       "  <tbody>\n",
       "    <tr>\n",
       "      <th>0</th>\n",
       "      <td>07/01/1994</td>\n",
       "      <td>469.90</td>\n",
       "    </tr>\n",
       "    <tr>\n",
       "      <th>1</th>\n",
       "      <td>10/01/1994</td>\n",
       "      <td>475.27</td>\n",
       "    </tr>\n",
       "    <tr>\n",
       "      <th>2</th>\n",
       "      <td>11/01/1994</td>\n",
       "      <td>474.13</td>\n",
       "    </tr>\n",
       "    <tr>\n",
       "      <th>3</th>\n",
       "      <td>12/01/1994</td>\n",
       "      <td>474.17</td>\n",
       "    </tr>\n",
       "  </tbody>\n",
       "</table>\n",
       "</div>"
      ],
      "text/plain": [
       "           ds       y\n",
       "0  07/01/1994  469.90\n",
       "1  10/01/1994  475.27\n",
       "2  11/01/1994  474.13\n",
       "3  12/01/1994  474.17"
      ]
     },
     "execution_count": 12,
     "metadata": {},
     "output_type": "execute_result"
    }
   ],
   "source": [
    "data.head(4)"
   ]
  },
  {
   "cell_type": "code",
   "execution_count": 13,
   "id": "informed-completion",
   "metadata": {},
   "outputs": [
    {
     "data": {
      "text/plain": [
       "<AxesSubplot:xlabel='ds'>"
      ]
     },
     "execution_count": 13,
     "metadata": {},
     "output_type": "execute_result"
    },
    {
     "data": {
      "image/png": "[encoded data removed]",
      "text/plain": [
       "<Figure size 1080x504 with 1 Axes>"
      ]
     },
     "metadata": {
      "needs_background": "light"
     },
     "output_type": "display_data"
    }
   ],
   "source": [
    "import matplotlib.pyplot as plt\n",
    "%matplotlib inline\n",
    "\n",
    "data.plot(x = 'ds', y ='y',figsize=(15,7))"
   ]
  },
  {
   "cell_type": "code",
   "execution_count": 14,
   "id": "alpine-tuesday",
   "metadata": {},
   "outputs": [
    {
     "data": {
      "text/plain": [
       "<bound method DataFrame.info of               ds            y\n",
       "0     07/01/1994   469.900000\n",
       "1     10/01/1994   475.270000\n",
       "2     11/01/1994   474.130000\n",
       "3     12/01/1994   474.170000\n",
       "4     13/01/1994   472.470000\n",
       "...          ...          ...\n",
       "6264  23/01/2018  2839.130362\n",
       "6265  24/01/2018  2837.544008\n",
       "6266  25/01/2018  2839.253031\n",
       "6267  26/01/2018  2872.867839\n",
       "6268  29/01/2018  2853.528411\n",
       "\n",
       "[6269 rows x 2 columns]>"
      ]
     },
     "execution_count": 14,
     "metadata": {},
     "output_type": "execute_result"
    }
   ],
   "source": [
    "data.info\n"
   ]
  },
  {
   "cell_type": "code",
   "execution_count": 15,
   "id": "increasing-muscle",
   "metadata": {},
   "outputs": [
    {
     "data": {
      "text/html": [
       "<div>\n",
       "<style scoped>\n",
       "    .dataframe tbody tr th:only-of-type {\n",
       "        vertical-align: middle;\n",
       "    }\n",
       "\n",
       "    .dataframe tbody tr th {\n",
       "        vertical-align: top;\n",
       "    }\n",
       "\n",
       "    .dataframe thead th {\n",
       "        text-align: right;\n",
       "    }\n",
       "</style>\n",
       "<table border=\"1\" class=\"dataframe\">\n",
       "  <thead>\n",
       "    <tr style=\"text-align: right;\">\n",
       "      <th></th>\n",
       "      <th>ds</th>\n",
       "      <th>y</th>\n",
       "    </tr>\n",
       "  </thead>\n",
       "  <tbody>\n",
       "    <tr>\n",
       "      <th>0</th>\n",
       "      <td>1994-01-07</td>\n",
       "      <td>469.90</td>\n",
       "    </tr>\n",
       "    <tr>\n",
       "      <th>1</th>\n",
       "      <td>1994-01-10</td>\n",
       "      <td>475.27</td>\n",
       "    </tr>\n",
       "    <tr>\n",
       "      <th>2</th>\n",
       "      <td>1994-01-11</td>\n",
       "      <td>474.13</td>\n",
       "    </tr>\n",
       "  </tbody>\n",
       "</table>\n",
       "</div>"
      ],
      "text/plain": [
       "          ds       y\n",
       "0 1994-01-07  469.90\n",
       "1 1994-01-10  475.27\n",
       "2 1994-01-11  474.13"
      ]
     },
     "execution_count": 15,
     "metadata": {},
     "output_type": "execute_result"
    }
   ],
   "source": [
    "# import datetime\n",
    "from datetime import datetime\n",
    "\n",
    "data.ds = pd.to_datetime(data.ds,dayfirst=True)\n",
    "data.head(3)"
   ]
  },
  {
   "cell_type": "code",
   "execution_count": 16,
   "id": "incident-rider",
   "metadata": {},
   "outputs": [
    {
     "data": {
      "text/plain": [
       "6269"
      ]
     },
     "execution_count": 16,
     "metadata": {},
     "output_type": "execute_result"
    }
   ],
   "source": [
    "len(data)"
   ]
  },
  {
   "cell_type": "code",
   "execution_count": 17,
   "id": "beginning-table",
   "metadata": {},
   "outputs": [
    {
     "data": {
      "text/plain": [
       "6257"
      ]
     },
     "execution_count": 17,
     "metadata": {},
     "output_type": "execute_result"
    }
   ],
   "source": [
    "c"
   ]
  },
  {
   "cell_type": "code",
   "execution_count": 19,
   "id": "detected-auckland",
   "metadata": {},
   "outputs": [],
   "source": [
    "train= data.iloc [:6257]"
   ]
  },
  {
   "cell_type": "code",
   "execution_count": 20,
   "id": "greatest-direction",
   "metadata": {},
   "outputs": [],
   "source": [
    "test = data.iloc [6257:]"
   ]
  },
  {
   "cell_type": "code",
   "execution_count": 22,
   "id": "exempt-brush",
   "metadata": {},
   "outputs": [
    {
     "data": {
      "text/plain": [
       "((6257, 2), (12, 2))"
      ]
     },
     "execution_count": 22,
     "metadata": {},
     "output_type": "execute_result"
    }
   ],
   "source": [
    "train.shape , test.shape"
   ]
  },
  {
   "cell_type": "code",
   "execution_count": 23,
   "id": "bored-outdoors",
   "metadata": {},
   "outputs": [
    {
     "data": {
      "text/html": [
       "<div>\n",
       "<style scoped>\n",
       "    .dataframe tbody tr th:only-of-type {\n",
       "        vertical-align: middle;\n",
       "    }\n",
       "\n",
       "    .dataframe tbody tr th {\n",
       "        vertical-align: top;\n",
       "    }\n",
       "\n",
       "    .dataframe thead th {\n",
       "        text-align: right;\n",
       "    }\n",
       "</style>\n",
       "<table border=\"1\" class=\"dataframe\">\n",
       "  <thead>\n",
       "    <tr style=\"text-align: right;\">\n",
       "      <th></th>\n",
       "      <th>ds</th>\n",
       "      <th>y</th>\n",
       "    </tr>\n",
       "  </thead>\n",
       "  <tbody>\n",
       "    <tr>\n",
       "      <th>0</th>\n",
       "      <td>1994-01-07</td>\n",
       "      <td>469.90</td>\n",
       "    </tr>\n",
       "    <tr>\n",
       "      <th>1</th>\n",
       "      <td>1994-01-10</td>\n",
       "      <td>475.27</td>\n",
       "    </tr>\n",
       "    <tr>\n",
       "      <th>2</th>\n",
       "      <td>1994-01-11</td>\n",
       "      <td>474.13</td>\n",
       "    </tr>\n",
       "    <tr>\n",
       "      <th>3</th>\n",
       "      <td>1994-01-12</td>\n",
       "      <td>474.17</td>\n",
       "    </tr>\n",
       "    <tr>\n",
       "      <th>4</th>\n",
       "      <td>1994-01-13</td>\n",
       "      <td>472.47</td>\n",
       "    </tr>\n",
       "  </tbody>\n",
       "</table>\n",
       "</div>"
      ],
      "text/plain": [
       "          ds       y\n",
       "0 1994-01-07  469.90\n",
       "1 1994-01-10  475.27\n",
       "2 1994-01-11  474.13\n",
       "3 1994-01-12  474.17\n",
       "4 1994-01-13  472.47"
      ]
     },
     "execution_count": 23,
     "metadata": {},
     "output_type": "execute_result"
    }
   ],
   "source": [
    "train.head(5)"
   ]
  },
  {
   "cell_type": "code",
   "execution_count": 24,
   "id": "retained-change",
   "metadata": {},
   "outputs": [],
   "source": [
    "model = Prophet()"
   ]
  },
  {
   "cell_type": "code",
   "execution_count": 25,
   "id": "technical-delhi",
   "metadata": {},
   "outputs": [
    {
     "name": "stderr",
     "output_type": "stream",
     "text": [
      "INFO:fbprophet:Disabling daily seasonality. Run prophet with daily_seasonality=True to override this.\n"
     ]
    },
    {
     "data": {
      "text/plain": [
       "<fbprophet.forecaster.Prophet at 0x2118447c3d0>"
      ]
     },
     "execution_count": 25,
     "metadata": {},
     "output_type": "execute_result"
    }
   ],
   "source": [
    "model.fit(train)"
   ]
  },
  {
   "cell_type": "code",
   "execution_count": 26,
   "id": "native-windows",
   "metadata": {},
   "outputs": [],
   "source": [
    "# create a placeholder to hold our predictions\n",
    "\n",
    "future = model.make_future_dataframe(periods=12,freq ='b')"
   ]
  },
  {
   "cell_type": "code",
   "execution_count": 27,
   "id": "deluxe-player",
   "metadata": {},
   "outputs": [
    {
     "data": {
      "text/plain": [
       "(6269, 1)"
      ]
     },
     "execution_count": 27,
     "metadata": {},
     "output_type": "execute_result"
    }
   ],
   "source": [
    "future.shape"
   ]
  },
  {
   "cell_type": "code",
   "execution_count": 28,
   "id": "understanding-belief",
   "metadata": {},
   "outputs": [
    {
     "data": {
      "text/html": [
       "<div>\n",
       "<style scoped>\n",
       "    .dataframe tbody tr th:only-of-type {\n",
       "        vertical-align: middle;\n",
       "    }\n",
       "\n",
       "    .dataframe tbody tr th {\n",
       "        vertical-align: top;\n",
       "    }\n",
       "\n",
       "    .dataframe thead th {\n",
       "        text-align: right;\n",
       "    }\n",
       "</style>\n",
       "<table border=\"1\" class=\"dataframe\">\n",
       "  <thead>\n",
       "    <tr style=\"text-align: right;\">\n",
       "      <th></th>\n",
       "      <th>ds</th>\n",
       "    </tr>\n",
       "  </thead>\n",
       "  <tbody>\n",
       "    <tr>\n",
       "      <th>6264</th>\n",
       "      <td>2018-01-23</td>\n",
       "    </tr>\n",
       "    <tr>\n",
       "      <th>6265</th>\n",
       "      <td>2018-01-24</td>\n",
       "    </tr>\n",
       "    <tr>\n",
       "      <th>6266</th>\n",
       "      <td>2018-01-25</td>\n",
       "    </tr>\n",
       "    <tr>\n",
       "      <th>6267</th>\n",
       "      <td>2018-01-26</td>\n",
       "    </tr>\n",
       "    <tr>\n",
       "      <th>6268</th>\n",
       "      <td>2018-01-29</td>\n",
       "    </tr>\n",
       "  </tbody>\n",
       "</table>\n",
       "</div>"
      ],
      "text/plain": [
       "             ds\n",
       "6264 2018-01-23\n",
       "6265 2018-01-24\n",
       "6266 2018-01-25\n",
       "6267 2018-01-26\n",
       "6268 2018-01-29"
      ]
     },
     "execution_count": 28,
     "metadata": {},
     "output_type": "execute_result"
    }
   ],
   "source": [
    "future.tail()"
   ]
  },
  {
   "cell_type": "code",
   "execution_count": 29,
   "id": "invalid-express",
   "metadata": {},
   "outputs": [
    {
     "data": {
      "text/html": [
       "<div>\n",
       "<style scoped>\n",
       "    .dataframe tbody tr th:only-of-type {\n",
       "        vertical-align: middle;\n",
       "    }\n",
       "\n",
       "    .dataframe tbody tr th {\n",
       "        vertical-align: top;\n",
       "    }\n",
       "\n",
       "    .dataframe thead th {\n",
       "        text-align: right;\n",
       "    }\n",
       "</style>\n",
       "<table border=\"1\" class=\"dataframe\">\n",
       "  <thead>\n",
       "    <tr style=\"text-align: right;\">\n",
       "      <th></th>\n",
       "      <th>ds</th>\n",
       "      <th>y</th>\n",
       "    </tr>\n",
       "  </thead>\n",
       "  <tbody>\n",
       "    <tr>\n",
       "      <th>6264</th>\n",
       "      <td>2018-01-23</td>\n",
       "      <td>2839.130362</td>\n",
       "    </tr>\n",
       "    <tr>\n",
       "      <th>6265</th>\n",
       "      <td>2018-01-24</td>\n",
       "      <td>2837.544008</td>\n",
       "    </tr>\n",
       "    <tr>\n",
       "      <th>6266</th>\n",
       "      <td>2018-01-25</td>\n",
       "      <td>2839.253031</td>\n",
       "    </tr>\n",
       "    <tr>\n",
       "      <th>6267</th>\n",
       "      <td>2018-01-26</td>\n",
       "      <td>2872.867839</td>\n",
       "    </tr>\n",
       "    <tr>\n",
       "      <th>6268</th>\n",
       "      <td>2018-01-29</td>\n",
       "      <td>2853.528411</td>\n",
       "    </tr>\n",
       "  </tbody>\n",
       "</table>\n",
       "</div>"
      ],
      "text/plain": [
       "             ds            y\n",
       "6264 2018-01-23  2839.130362\n",
       "6265 2018-01-24  2837.544008\n",
       "6266 2018-01-25  2839.253031\n",
       "6267 2018-01-26  2872.867839\n",
       "6268 2018-01-29  2853.528411"
      ]
     },
     "execution_count": 29,
     "metadata": {},
     "output_type": "execute_result"
    }
   ],
   "source": [
    "test.tail()"
   ]
  },
  {
   "cell_type": "code",
   "execution_count": 35,
   "id": "protective-overall",
   "metadata": {},
   "outputs": [
    {
     "data": {
      "text/html": [
       "<div>\n",
       "<style scoped>\n",
       "    .dataframe tbody tr th:only-of-type {\n",
       "        vertical-align: middle;\n",
       "    }\n",
       "\n",
       "    .dataframe tbody tr th {\n",
       "        vertical-align: top;\n",
       "    }\n",
       "\n",
       "    .dataframe thead th {\n",
       "        text-align: right;\n",
       "    }\n",
       "</style>\n",
       "<table border=\"1\" class=\"dataframe\">\n",
       "  <thead>\n",
       "    <tr style=\"text-align: right;\">\n",
       "      <th></th>\n",
       "      <th>ds</th>\n",
       "      <th>y</th>\n",
       "    </tr>\n",
       "  </thead>\n",
       "  <tbody>\n",
       "    <tr>\n",
       "      <th>6257</th>\n",
       "      <td>2018-01-12</td>\n",
       "      <td>2786.244143</td>\n",
       "    </tr>\n",
       "    <tr>\n",
       "      <th>6258</th>\n",
       "      <td>2018-01-15</td>\n",
       "      <td>2786.244143</td>\n",
       "    </tr>\n",
       "    <tr>\n",
       "      <th>6259</th>\n",
       "      <td>2018-01-16</td>\n",
       "      <td>2776.420024</td>\n",
       "    </tr>\n",
       "    <tr>\n",
       "      <th>6260</th>\n",
       "      <td>2018-01-17</td>\n",
       "      <td>2802.555574</td>\n",
       "    </tr>\n",
       "    <tr>\n",
       "      <th>6261</th>\n",
       "      <td>2018-01-18</td>\n",
       "      <td>2798.030257</td>\n",
       "    </tr>\n",
       "  </tbody>\n",
       "</table>\n",
       "</div>"
      ],
      "text/plain": [
       "             ds            y\n",
       "6257 2018-01-12  2786.244143\n",
       "6258 2018-01-15  2786.244143\n",
       "6259 2018-01-16  2776.420024\n",
       "6260 2018-01-17  2802.555574\n",
       "6261 2018-01-18  2798.030257"
      ]
     },
     "execution_count": 35,
     "metadata": {},
     "output_type": "execute_result"
    }
   ],
   "source": [
    "test.head()"
   ]
  },
  {
   "cell_type": "code",
   "execution_count": 30,
   "id": "multiple-boards",
   "metadata": {},
   "outputs": [],
   "source": [
    "forecast = model.predict(future)"
   ]
  },
  {
   "cell_type": "code",
   "execution_count": 32,
   "id": "educated-bibliography",
   "metadata": {},
   "outputs": [
    {
     "data": {
      "text/html": [
       "<div>\n",
       "<style scoped>\n",
       "    .dataframe tbody tr th:only-of-type {\n",
       "        vertical-align: middle;\n",
       "    }\n",
       "\n",
       "    .dataframe tbody tr th {\n",
       "        vertical-align: top;\n",
       "    }\n",
       "\n",
       "    .dataframe thead th {\n",
       "        text-align: right;\n",
       "    }\n",
       "</style>\n",
       "<table border=\"1\" class=\"dataframe\">\n",
       "  <thead>\n",
       "    <tr style=\"text-align: right;\">\n",
       "      <th></th>\n",
       "      <th>ds</th>\n",
       "      <th>trend</th>\n",
       "      <th>yhat_lower</th>\n",
       "      <th>yhat_upper</th>\n",
       "      <th>trend_lower</th>\n",
       "      <th>trend_upper</th>\n",
       "      <th>additive_terms</th>\n",
       "      <th>additive_terms_lower</th>\n",
       "      <th>additive_terms_upper</th>\n",
       "      <th>weekly</th>\n",
       "      <th>weekly_lower</th>\n",
       "      <th>weekly_upper</th>\n",
       "      <th>yearly</th>\n",
       "      <th>yearly_lower</th>\n",
       "      <th>yearly_upper</th>\n",
       "      <th>multiplicative_terms</th>\n",
       "      <th>multiplicative_terms_lower</th>\n",
       "      <th>multiplicative_terms_upper</th>\n",
       "      <th>yhat</th>\n",
       "    </tr>\n",
       "  </thead>\n",
       "  <tbody>\n",
       "    <tr>\n",
       "      <th>0</th>\n",
       "      <td>1994-01-07</td>\n",
       "      <td>443.983487</td>\n",
       "      <td>366.814743</td>\n",
       "      <td>524.321650</td>\n",
       "      <td>443.983487</td>\n",
       "      <td>443.983487</td>\n",
       "      <td>3.779413</td>\n",
       "      <td>3.779413</td>\n",
       "      <td>3.779413</td>\n",
       "      <td>-4.450976</td>\n",
       "      <td>-4.450976</td>\n",
       "      <td>-4.450976</td>\n",
       "      <td>8.230388</td>\n",
       "      <td>8.230388</td>\n",
       "      <td>8.230388</td>\n",
       "      <td>0.0</td>\n",
       "      <td>0.0</td>\n",
       "      <td>0.0</td>\n",
       "      <td>447.762900</td>\n",
       "    </tr>\n",
       "    <tr>\n",
       "      <th>1</th>\n",
       "      <td>1994-01-10</td>\n",
       "      <td>444.248848</td>\n",
       "      <td>360.923166</td>\n",
       "      <td>527.494475</td>\n",
       "      <td>444.248848</td>\n",
       "      <td>444.248848</td>\n",
       "      <td>0.600000</td>\n",
       "      <td>0.600000</td>\n",
       "      <td>0.600000</td>\n",
       "      <td>-5.164708</td>\n",
       "      <td>-5.164708</td>\n",
       "      <td>-5.164708</td>\n",
       "      <td>5.764709</td>\n",
       "      <td>5.764709</td>\n",
       "      <td>5.764709</td>\n",
       "      <td>0.0</td>\n",
       "      <td>0.0</td>\n",
       "      <td>0.0</td>\n",
       "      <td>444.848848</td>\n",
       "    </tr>\n",
       "    <tr>\n",
       "      <th>2</th>\n",
       "      <td>1994-01-11</td>\n",
       "      <td>444.337301</td>\n",
       "      <td>363.299458</td>\n",
       "      <td>524.542967</td>\n",
       "      <td>444.337301</td>\n",
       "      <td>444.337301</td>\n",
       "      <td>0.229446</td>\n",
       "      <td>0.229446</td>\n",
       "      <td>0.229446</td>\n",
       "      <td>-4.484396</td>\n",
       "      <td>-4.484396</td>\n",
       "      <td>-4.484396</td>\n",
       "      <td>4.713843</td>\n",
       "      <td>4.713843</td>\n",
       "      <td>4.713843</td>\n",
       "      <td>0.0</td>\n",
       "      <td>0.0</td>\n",
       "      <td>0.0</td>\n",
       "      <td>444.566748</td>\n",
       "    </tr>\n",
       "    <tr>\n",
       "      <th>3</th>\n",
       "      <td>1994-01-12</td>\n",
       "      <td>444.425755</td>\n",
       "      <td>361.865376</td>\n",
       "      <td>518.938988</td>\n",
       "      <td>444.425755</td>\n",
       "      <td>444.425755</td>\n",
       "      <td>-0.857929</td>\n",
       "      <td>-0.857929</td>\n",
       "      <td>-0.857929</td>\n",
       "      <td>-4.425402</td>\n",
       "      <td>-4.425402</td>\n",
       "      <td>-4.425402</td>\n",
       "      <td>3.567473</td>\n",
       "      <td>3.567473</td>\n",
       "      <td>3.567473</td>\n",
       "      <td>0.0</td>\n",
       "      <td>0.0</td>\n",
       "      <td>0.0</td>\n",
       "      <td>443.567826</td>\n",
       "    </tr>\n",
       "  </tbody>\n",
       "</table>\n",
       "</div>"
      ],
      "text/plain": [
       "          ds       trend  yhat_lower  yhat_upper  trend_lower  trend_upper  \\\n",
       "0 1994-01-07  443.983487  366.814743  524.321650   443.983487   443.983487   \n",
       "1 1994-01-10  444.248848  360.923166  527.494475   444.248848   444.248848   \n",
       "2 1994-01-11  444.337301  363.299458  524.542967   444.337301   444.337301   \n",
       "3 1994-01-12  444.425755  361.865376  518.938988   444.425755   444.425755   \n",
       "\n",
       "   additive_terms  additive_terms_lower  additive_terms_upper    weekly  \\\n",
       "0        3.779413              3.779413              3.779413 -4.450976   \n",
       "1        0.600000              0.600000              0.600000 -5.164708   \n",
       "2        0.229446              0.229446              0.229446 -4.484396   \n",
       "3       -0.857929             -0.857929             -0.857929 -4.425402   \n",
       "\n",
       "   weekly_lower  weekly_upper    yearly  yearly_lower  yearly_upper  \\\n",
       "0     -4.450976     -4.450976  8.230388      8.230388      8.230388   \n",
       "1     -5.164708     -5.164708  5.764709      5.764709      5.764709   \n",
       "2     -4.484396     -4.484396  4.713843      4.713843      4.713843   \n",
       "3     -4.425402     -4.425402  3.567473      3.567473      3.567473   \n",
       "\n",
       "   multiplicative_terms  multiplicative_terms_lower  \\\n",
       "0                   0.0                         0.0   \n",
       "1                   0.0                         0.0   \n",
       "2                   0.0                         0.0   \n",
       "3                   0.0                         0.0   \n",
       "\n",
       "   multiplicative_terms_upper        yhat  \n",
       "0                         0.0  447.762900  \n",
       "1                         0.0  444.848848  \n",
       "2                         0.0  444.566748  \n",
       "3                         0.0  443.567826  "
      ]
     },
     "execution_count": 32,
     "metadata": {},
     "output_type": "execute_result"
    }
   ],
   "source": [
    "forecast.head(4)"
   ]
  },
  {
   "cell_type": "code",
   "execution_count": 33,
   "id": "premier-location",
   "metadata": {},
   "outputs": [
    {
     "data": {
      "text/html": [
       "<div>\n",
       "<style scoped>\n",
       "    .dataframe tbody tr th:only-of-type {\n",
       "        vertical-align: middle;\n",
       "    }\n",
       "\n",
       "    .dataframe tbody tr th {\n",
       "        vertical-align: top;\n",
       "    }\n",
       "\n",
       "    .dataframe thead th {\n",
       "        text-align: right;\n",
       "    }\n",
       "</style>\n",
       "<table border=\"1\" class=\"dataframe\">\n",
       "  <thead>\n",
       "    <tr style=\"text-align: right;\">\n",
       "      <th></th>\n",
       "      <th>ds</th>\n",
       "      <th>yhat</th>\n",
       "      <th>yhat_lower</th>\n",
       "      <th>yhat_upper</th>\n",
       "    </tr>\n",
       "  </thead>\n",
       "  <tbody>\n",
       "    <tr>\n",
       "      <th>6264</th>\n",
       "      <td>2018-01-23</td>\n",
       "      <td>2498.065896</td>\n",
       "      <td>2420.244157</td>\n",
       "      <td>2588.225486</td>\n",
       "    </tr>\n",
       "    <tr>\n",
       "      <th>6265</th>\n",
       "      <td>2018-01-24</td>\n",
       "      <td>2497.827545</td>\n",
       "      <td>2410.472208</td>\n",
       "      <td>2575.263137</td>\n",
       "    </tr>\n",
       "    <tr>\n",
       "      <th>6266</th>\n",
       "      <td>2018-01-25</td>\n",
       "      <td>2497.863038</td>\n",
       "      <td>2413.018753</td>\n",
       "      <td>2580.435763</td>\n",
       "    </tr>\n",
       "    <tr>\n",
       "      <th>6267</th>\n",
       "      <td>2018-01-26</td>\n",
       "      <td>2497.647074</td>\n",
       "      <td>2415.787013</td>\n",
       "      <td>2584.232229</td>\n",
       "    </tr>\n",
       "    <tr>\n",
       "      <th>6268</th>\n",
       "      <td>2018-01-29</td>\n",
       "      <td>2497.878378</td>\n",
       "      <td>2414.866590</td>\n",
       "      <td>2585.639135</td>\n",
       "    </tr>\n",
       "  </tbody>\n",
       "</table>\n",
       "</div>"
      ],
      "text/plain": [
       "             ds         yhat   yhat_lower   yhat_upper\n",
       "6264 2018-01-23  2498.065896  2420.244157  2588.225486\n",
       "6265 2018-01-24  2497.827545  2410.472208  2575.263137\n",
       "6266 2018-01-25  2497.863038  2413.018753  2580.435763\n",
       "6267 2018-01-26  2497.647074  2415.787013  2584.232229\n",
       "6268 2018-01-29  2497.878378  2414.866590  2585.639135"
      ]
     },
     "execution_count": 33,
     "metadata": {},
     "output_type": "execute_result"
    }
   ],
   "source": [
    "forecast[['ds', 'yhat', 'yhat_lower', 'yhat_upper']].tail()"
   ]
  },
  {
   "cell_type": "code",
   "execution_count": 34,
   "id": "ignored-blowing",
   "metadata": {},
   "outputs": [
    {
     "data": {
      "text/plain": [
       "<AxesSubplot:>"
      ]
     },
     "execution_count": 34,
     "metadata": {},
     "output_type": "execute_result"
    },
    {
     "data": {
      "image/png": "[encoded data removed]",
      "text/plain": [
       "<Figure size 1008x432 with 1 Axes>"
      ]
     },
     "metadata": {
      "needs_background": "light"
     },
     "output_type": "display_data"
    }
   ],
   "source": [
    "forecast.yhat.plot(legend=True,figsize =(14,6))"
   ]
  },
  {
   "cell_type": "code",
   "execution_count": 41,
   "id": "warming-bracket",
   "metadata": {},
   "outputs": [
    {
     "data": {
      "text/plain": [
       "(6269, 19)"
      ]
     },
     "execution_count": 41,
     "metadata": {},
     "output_type": "execute_result"
    }
   ],
   "source": [
    "forecast.shape"
   ]
  },
  {
   "cell_type": "code",
   "execution_count": 42,
   "id": "honey-superior",
   "metadata": {},
   "outputs": [],
   "source": [
    "forecast_train= forecast.iloc [:6257]"
   ]
  },
  {
   "cell_type": "code",
   "execution_count": 43,
   "id": "weird-granny",
   "metadata": {},
   "outputs": [],
   "source": [
    "forecast_test =  forecast.iloc [6257:]"
   ]
  },
  {
   "cell_type": "code",
   "execution_count": 52,
   "id": "altered-makeup",
   "metadata": {},
   "outputs": [
    {
     "data": {
      "text/plain": [
       "<AxesSubplot:title={'center':'Actual vs Forecast'}, xlabel='ds'>"
      ]
     },
     "execution_count": 52,
     "metadata": {},
     "output_type": "execute_result"
    },
    {
     "data": {
      "image/png": "[encoded data removed]",
      "text/plain": [
       "<Figure size 1440x360 with 1 Axes>"
      ]
     },
     "metadata": {
      "needs_background": "light"
     },
     "output_type": "display_data"
    }
   ],
   "source": [
    "# plotting the actual and forecast values\n",
    "\n",
    "ax = (data.plot(x='ds',y='y',figsize=(20,5),title='Actual Vs Forecast'))\n",
    "forecast.plot(x='ds',y='yhat',figsize=(20,5),title='Actual vs Forecast', ax=ax)"
   ]
  },
  {
   "cell_type": "code",
   "execution_count": 48,
   "id": "informational-destruction",
   "metadata": {},
   "outputs": [
    {
     "name": "stdout",
     "output_type": "stream",
     "text": [
      "Requirement already satisfied: sklearn in c:\\users\\henry\\anaconda3\\envs\\test\\lib\\site-packages (0.0)\n",
      "Requirement already satisfied: scikit-learn in c:\\users\\henry\\anaconda3\\envs\\test\\lib\\site-packages (from sklearn) (0.24.1)\n",
      "Requirement already satisfied: scipy>=0.19.1 in c:\\users\\henry\\anaconda3\\envs\\test\\lib\\site-packages (from scikit-learn->sklearn) (1.6.0)\n",
      "Requirement already satisfied: joblib>=0.11 in c:\\users\\henry\\anaconda3\\envs\\test\\lib\\site-packages (from scikit-learn->sklearn) (1.0.1)\n",
      "Requirement already satisfied: numpy>=1.13.3 in c:\\users\\henry\\anaconda3\\envs\\test\\lib\\site-packages (from scikit-learn->sklearn) (1.20.1)\n",
      "Requirement already satisfied: threadpoolctl>=2.0.0 in c:\\users\\henry\\anaconda3\\envs\\test\\lib\\site-packages (from scikit-learn->sklearn) (2.1.0)\n",
      "Requirement already satisfied: numpy in c:\\users\\henry\\anaconda3\\envs\\test\\lib\\site-packages (1.20.1)\n"
     ]
    }
   ],
   "source": [
    "! pip install sklearn\n",
    "! pip install numpy\n",
    "import numpy as np\n",
    "from sklearn.metrics import r2_score\n",
    "from sklearn.metrics import mean_squared_error\n",
    "from math import sqrt\n"
   ]
  },
  {
   "cell_type": "code",
   "execution_count": 53,
   "id": "continuing-whale",
   "metadata": {},
   "outputs": [
    {
     "name": "stdout",
     "output_type": "stream",
     "text": [
      "320.8803740359132\n"
     ]
    }
   ],
   "source": [
    "\n",
    "print(np.sqrt(mean_squared_error(test['y'],forecast_test.yhat )))"
   ]
  },
  {
   "cell_type": "code",
   "execution_count": 50,
   "id": "induced-montana",
   "metadata": {},
   "outputs": [
    {
     "data": {
      "image/png": "[encoded data removed]",
      "text/plain": [
       "<Figure size 720x432 with 1 Axes>"
      ]
     },
     "metadata": {},
     "output_type": "display_data"
    }
   ],
   "source": [
    "# You can plot the forecast by calling the Prophet.plot method and passing in your forecast dataframe.\n",
    "fig1 = model.plot(forecast)"
   ]
  },
  {
   "cell_type": "markdown",
   "id": "purple-violence",
   "metadata": {},
   "source": [
    "# From all my Analysis, fbprophet appears to be the least performer.\n",
    "\n",
    "\n",
    "# thanks,\n",
    "\n",
    "# Henry Nwachukwu"
   ]
  },
  {
   "cell_type": "code",
   "execution_count": null,
   "id": "utility-diabetes",
   "metadata": {},
   "outputs": [],
   "source": []
  }
 ],
 "metadata": {
  "kernelspec": {
   "display_name": "Python 3",
   "language": "python",
   "name": "python3"
  },
  "language_info": {
   "codemirror_mode": {
    "name": "ipython",
    "version": 3
   },
   "file_extension": ".py",
   "mimetype": "text/x-python",
   "name": "python",
   "nbconvert_exporter": "python",
   "pygments_lexer": "ipython3",
   "version": "3.8.8"
  }
 },
 "nbformat": 4,
 "nbformat_minor": 5
}
